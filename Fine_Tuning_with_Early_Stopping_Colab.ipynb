{
  "cells": [
    {
      "cell_type": "code",
      "execution_count": null,
      "metadata": {
        "vscode": {
          "languageId": "plaintext"
        }
      },
      "outputs": [],
      "source": [
        "# 🚀 한국어 텍스트 분류 모델 파인튜닝 with 조기 종료\n",
        "\n",
        "이 노트북은 다음 기능들을 제공합니다:\n",
        "- 높은 epoch 수 설정\n",
        "- Validation loss 기반 조기 종료\n",
        "- Epoch별 train/val loss 출력\n",
        "- 손실 그래프 시각화 및 저장\n",
        "- 앙상블 기반 학습\n"
      ]
    },
    {
      "cell_type": "code",
      "execution_count": null,
      "metadata": {},
      "outputs": [],
      "source": [
        "# 필요한 라이브러리 설치\n",
        "!pip install sentence-transformers transformers torch pandas scikit-learn matplotlib tqdm\n",
        "!pip install accelerate\n"
      ]
    },
    {
      "cell_type": "code",
      "execution_count": null,
      "metadata": {
        "vscode": {
          "languageId": "plaintext"
        }
      },
      "outputs": [],
      "source": [
        "## 📦 1. 라이브러리 설치 및 설정\n"
      ]
    }
  ],
  "metadata": {
    "language_info": {
      "name": "python"
    }
  },
  "nbformat": 4,
  "nbformat_minor": 2
}
